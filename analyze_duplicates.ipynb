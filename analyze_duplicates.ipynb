{
 "cells": [
  {
   "cell_type": "code",
   "execution_count": 2,
   "metadata": {},
   "outputs": [],
   "source": [
    "import pandas as pd\n",
    "import numpy as np"
   ]
  },
  {
   "cell_type": "markdown",
   "metadata": {},
   "source": [
    "#### Explore the dataset from the Copenhagen Bioinformatics Hackathon"
   ]
  },
  {
   "cell_type": "code",
   "execution_count": 3,
   "metadata": {},
   "outputs": [],
   "source": [
    "#extract .csv file from the acrhive\n",
    "#!gunzip train115k.csv.gz"
   ]
  },
  {
   "cell_type": "code",
   "execution_count": 4,
   "metadata": {},
   "outputs": [
    {
     "name": "stdout",
     "output_type": "stream",
     "text": [
      "Number of unique sequences in the dataset from the Hackaton:  115803\n"
     ]
    },
    {
     "data": {
      "text/html": [
       "<div>\n",
       "<style scoped>\n",
       "    .dataframe tbody tr th:only-of-type {\n",
       "        vertical-align: middle;\n",
       "    }\n",
       "\n",
       "    .dataframe tbody tr th {\n",
       "        vertical-align: top;\n",
       "    }\n",
       "\n",
       "    .dataframe thead th {\n",
       "        text-align: right;\n",
       "    }\n",
       "</style>\n",
       "<table border=\"1\" class=\"dataframe\">\n",
       "  <thead>\n",
       "    <tr style=\"text-align: right;\">\n",
       "      <th></th>\n",
       "      <th>mean_growth_PH</th>\n",
       "      <th>sequence</th>\n",
       "    </tr>\n",
       "  </thead>\n",
       "  <tbody>\n",
       "    <tr>\n",
       "      <th>0</th>\n",
       "      <td>7.0</td>\n",
       "      <td>MKKRAHIISFILILALLFTGCSGNKENTSKEPVKETTEKGTGNIKT...</td>\n",
       "    </tr>\n",
       "    <tr>\n",
       "      <th>1</th>\n",
       "      <td>7.0</td>\n",
       "      <td>MGKGKRKKRIALYFKRAAVAMLVMVMLLQPIPGTAGSSVKSVEAAV...</td>\n",
       "    </tr>\n",
       "    <tr>\n",
       "      <th>2</th>\n",
       "      <td>7.0</td>\n",
       "      <td>MKVNNKNSARKLLSLFLGLVLIFSTLSFSNQAAAADKGTWAPNTTY...</td>\n",
       "    </tr>\n",
       "    <tr>\n",
       "      <th>3</th>\n",
       "      <td>7.0</td>\n",
       "      <td>MRKKVTAVLTALVLTVSSILANPFAYPDAVKADTEGNPAAASNSNG...</td>\n",
       "    </tr>\n",
       "    <tr>\n",
       "      <th>4</th>\n",
       "      <td>7.0</td>\n",
       "      <td>MKRQSRIISFLVAVIMIATVIMPATVVQANASGVFIRVNQVGYKPS...</td>\n",
       "    </tr>\n",
       "  </tbody>\n",
       "</table>\n",
       "</div>"
      ],
      "text/plain": [
       "   mean_growth_PH                                           sequence\n",
       "0             7.0  MKKRAHIISFILILALLFTGCSGNKENTSKEPVKETTEKGTGNIKT...\n",
       "1             7.0  MGKGKRKKRIALYFKRAAVAMLVMVMLLQPIPGTAGSSVKSVEAAV...\n",
       "2             7.0  MKVNNKNSARKLLSLFLGLVLIFSTLSFSNQAAAADKGTWAPNTTY...\n",
       "3             7.0  MRKKVTAVLTALVLTVSSILANPFAYPDAVKADTEGNPAAASNSNG...\n",
       "4             7.0  MKRQSRIISFLVAVIMIATVIMPATVVQANASGVFIRVNQVGYKPS..."
      ]
     },
     "execution_count": 4,
     "metadata": {},
     "output_type": "execute_result"
    }
   ],
   "source": [
    "old_set = pd.read_csv(\"train115k.csv\", index_col=0)\n",
    "print(\"Number of unique sequences in the dataset from the Hackaton: \", old_set.shape[0])\n",
    "assert old_set['sequence'].nunique() == old_set.shape[0] #to be sure that all sequences are unique\n",
    "\n",
    "old_set.head()"
   ]
  },
  {
   "cell_type": "markdown",
   "metadata": {},
   "source": [
    "#### Explore the gold_sign_recent dataset"
   ]
  },
  {
   "cell_type": "code",
   "execution_count": 5,
   "metadata": {},
   "outputs": [],
   "source": [
    "#extract .csv file from the archive\n",
    "#!gunzip gold_sign_recent.csv.gz"
   ]
  },
  {
   "cell_type": "code",
   "execution_count": 6,
   "metadata": {},
   "outputs": [
    {
     "name": "stdout",
     "output_type": "stream",
     "text": [
      "Number of sequences in the gold dataset:  247651\n",
      "Number of duplicated sequences in the gold dataset:  1\n"
     ]
    },
    {
     "data": {
      "text/html": [
       "<div>\n",
       "<style scoped>\n",
       "    .dataframe tbody tr th:only-of-type {\n",
       "        vertical-align: middle;\n",
       "    }\n",
       "\n",
       "    .dataframe tbody tr th {\n",
       "        vertical-align: top;\n",
       "    }\n",
       "\n",
       "    .dataframe thead th {\n",
       "        text-align: right;\n",
       "    }\n",
       "</style>\n",
       "<table border=\"1\" class=\"dataframe\">\n",
       "  <thead>\n",
       "    <tr style=\"text-align: right;\">\n",
       "      <th></th>\n",
       "      <th>key</th>\n",
       "      <th>sequence</th>\n",
       "      <th>sequence_hashkey</th>\n",
       "      <th>pfam_hits</th>\n",
       "      <th>value_cur_count</th>\n",
       "      <th>value_cur_mean</th>\n",
       "      <th>value_cur_std</th>\n",
       "      <th>species_taxid</th>\n",
       "    </tr>\n",
       "  </thead>\n",
       "  <tbody>\n",
       "    <tr>\n",
       "      <th>0</th>\n",
       "      <td>TREMBL:A0A1M7YMF3</td>\n",
       "      <td>MKKRAHIISFILILALLFTGCSGNKENTSKEPVKETTEKGTGNIKT...</td>\n",
       "      <td>4140c1bfe158c54bf8341936919bfbdc</td>\n",
       "      <td>PF00128</td>\n",
       "      <td>1.0</td>\n",
       "      <td>6.0</td>\n",
       "      <td>NaN</td>\n",
       "      <td>100134</td>\n",
       "    </tr>\n",
       "    <tr>\n",
       "      <th>1</th>\n",
       "      <td>TREMBL:A0A1M7YE49</td>\n",
       "      <td>MGKGKRKKRIALYFKRAAVAMLVMVMLLQPIPGTAGSSVKSVEAAV...</td>\n",
       "      <td>f0234bf7d0ae0e73f36e583b04330e11</td>\n",
       "      <td>PF00722,PF02018,PF00041</td>\n",
       "      <td>1.0</td>\n",
       "      <td>6.0</td>\n",
       "      <td>NaN</td>\n",
       "      <td>100134</td>\n",
       "    </tr>\n",
       "    <tr>\n",
       "      <th>2</th>\n",
       "      <td>TREMBL:A0A1M7Y718</td>\n",
       "      <td>MNNIPYKKCIIIAMLFICAYFLGGGVAMLVQAYGKDSVKEEANWGL...</td>\n",
       "      <td>74a64ff43b3ab606df759f33df2f53ca</td>\n",
       "      <td>PF01522</td>\n",
       "      <td>1.0</td>\n",
       "      <td>6.0</td>\n",
       "      <td>NaN</td>\n",
       "      <td>100134</td>\n",
       "    </tr>\n",
       "    <tr>\n",
       "      <th>3</th>\n",
       "      <td>TREMBL:A0A1M7YIY6</td>\n",
       "      <td>MKVNNKNSARKLLSLFLGLVLIFSTLSFSNQAAAADKGTWAPNTTY...</td>\n",
       "      <td>afa9ff2d974a4d6c30a1fee00749bed7</td>\n",
       "      <td>PF13290,PF13290,PF13287,PF13287,PF00704</td>\n",
       "      <td>1.0</td>\n",
       "      <td>6.0</td>\n",
       "      <td>NaN</td>\n",
       "      <td>100134</td>\n",
       "    </tr>\n",
       "    <tr>\n",
       "      <th>4</th>\n",
       "      <td>TREMBL:A0A1M7YIF7</td>\n",
       "      <td>MKRQSRIISFLVAVIMIATVIMPATVVQANASGVFIRVNQVGYKPS...</td>\n",
       "      <td>980e447cfab03b9ff6d8e3ebe33fd8c5</td>\n",
       "      <td>PF00759,PF02927</td>\n",
       "      <td>1.0</td>\n",
       "      <td>6.0</td>\n",
       "      <td>NaN</td>\n",
       "      <td>100134</td>\n",
       "    </tr>\n",
       "  </tbody>\n",
       "</table>\n",
       "</div>"
      ],
      "text/plain": [
       "                 key                                           sequence  \\\n",
       "0  TREMBL:A0A1M7YMF3  MKKRAHIISFILILALLFTGCSGNKENTSKEPVKETTEKGTGNIKT...   \n",
       "1  TREMBL:A0A1M7YE49  MGKGKRKKRIALYFKRAAVAMLVMVMLLQPIPGTAGSSVKSVEAAV...   \n",
       "2  TREMBL:A0A1M7Y718  MNNIPYKKCIIIAMLFICAYFLGGGVAMLVQAYGKDSVKEEANWGL...   \n",
       "3  TREMBL:A0A1M7YIY6  MKVNNKNSARKLLSLFLGLVLIFSTLSFSNQAAAADKGTWAPNTTY...   \n",
       "4  TREMBL:A0A1M7YIF7  MKRQSRIISFLVAVIMIATVIMPATVVQANASGVFIRVNQVGYKPS...   \n",
       "\n",
       "                   sequence_hashkey                                pfam_hits  \\\n",
       "0  4140c1bfe158c54bf8341936919bfbdc                                  PF00128   \n",
       "1  f0234bf7d0ae0e73f36e583b04330e11                  PF00722,PF02018,PF00041   \n",
       "2  74a64ff43b3ab606df759f33df2f53ca                                  PF01522   \n",
       "3  afa9ff2d974a4d6c30a1fee00749bed7  PF13290,PF13290,PF13287,PF13287,PF00704   \n",
       "4  980e447cfab03b9ff6d8e3ebe33fd8c5                          PF00759,PF02927   \n",
       "\n",
       "   value_cur_count  value_cur_mean  value_cur_std  species_taxid  \n",
       "0              1.0             6.0            NaN         100134  \n",
       "1              1.0             6.0            NaN         100134  \n",
       "2              1.0             6.0            NaN         100134  \n",
       "3              1.0             6.0            NaN         100134  \n",
       "4              1.0             6.0            NaN         100134  "
      ]
     },
     "execution_count": 6,
     "metadata": {},
     "output_type": "execute_result"
    }
   ],
   "source": [
    "gold_set = pd.read_csv(\"gold_sign_recent.csv\", index_col=0)\n",
    "print(\"Number of sequences in the gold dataset: \", gold_set.shape[0])\n",
    "print(\"Number of duplicated sequences in the gold dataset: \", gold_set.duplicated('sequence_hashkey').sum())\n",
    "\n",
    "gold_set.head()"
   ]
  },
  {
   "cell_type": "code",
   "execution_count": 7,
   "metadata": {},
   "outputs": [
    {
     "name": "stdout",
     "output_type": "stream",
     "text": [
      "Intersection of the old and gold sets:  108571\n"
     ]
    }
   ],
   "source": [
    "print(\"Intersection of the old and gold sets: \",\n",
    "      len(set(gold_set['sequence'].unique()).intersection(old_set['sequence'].unique())))"
   ]
  },
  {
   "cell_type": "markdown",
   "metadata": {},
   "source": [
    "#### Merge both datasets"
   ]
  },
  {
   "cell_type": "code",
   "execution_count": 8,
   "metadata": {},
   "outputs": [
    {
     "name": "stdout",
     "output_type": "stream",
     "text": [
      "Number of entries after merging:  363454\n"
     ]
    },
    {
     "data": {
      "text/html": [
       "<div>\n",
       "<style scoped>\n",
       "    .dataframe tbody tr th:only-of-type {\n",
       "        vertical-align: middle;\n",
       "    }\n",
       "\n",
       "    .dataframe tbody tr th {\n",
       "        vertical-align: top;\n",
       "    }\n",
       "\n",
       "    .dataframe thead th {\n",
       "        text-align: right;\n",
       "    }\n",
       "</style>\n",
       "<table border=\"1\" class=\"dataframe\">\n",
       "  <thead>\n",
       "    <tr style=\"text-align: right;\">\n",
       "      <th></th>\n",
       "      <th>key</th>\n",
       "      <th>sequence</th>\n",
       "      <th>sequence_hashkey</th>\n",
       "      <th>pfam_hits</th>\n",
       "      <th>value_cur_count</th>\n",
       "      <th>value_cur_mean</th>\n",
       "      <th>value_cur_std</th>\n",
       "      <th>species_taxid</th>\n",
       "    </tr>\n",
       "  </thead>\n",
       "  <tbody>\n",
       "    <tr>\n",
       "      <th>0</th>\n",
       "      <td>TREMBL:A0A1M7YMF3</td>\n",
       "      <td>MKKRAHIISFILILALLFTGCSGNKENTSKEPVKETTEKGTGNIKT...</td>\n",
       "      <td>4140c1bfe158c54bf8341936919bfbdc</td>\n",
       "      <td>PF00128</td>\n",
       "      <td>1.0</td>\n",
       "      <td>6.0</td>\n",
       "      <td>NaN</td>\n",
       "      <td>100134.0</td>\n",
       "    </tr>\n",
       "    <tr>\n",
       "      <th>1</th>\n",
       "      <td>TREMBL:A0A1M7YE49</td>\n",
       "      <td>MGKGKRKKRIALYFKRAAVAMLVMVMLLQPIPGTAGSSVKSVEAAV...</td>\n",
       "      <td>f0234bf7d0ae0e73f36e583b04330e11</td>\n",
       "      <td>PF00722,PF02018,PF00041</td>\n",
       "      <td>1.0</td>\n",
       "      <td>6.0</td>\n",
       "      <td>NaN</td>\n",
       "      <td>100134.0</td>\n",
       "    </tr>\n",
       "    <tr>\n",
       "      <th>2</th>\n",
       "      <td>TREMBL:A0A1M7Y718</td>\n",
       "      <td>MNNIPYKKCIIIAMLFICAYFLGGGVAMLVQAYGKDSVKEEANWGL...</td>\n",
       "      <td>74a64ff43b3ab606df759f33df2f53ca</td>\n",
       "      <td>PF01522</td>\n",
       "      <td>1.0</td>\n",
       "      <td>6.0</td>\n",
       "      <td>NaN</td>\n",
       "      <td>100134.0</td>\n",
       "    </tr>\n",
       "    <tr>\n",
       "      <th>3</th>\n",
       "      <td>TREMBL:A0A1M7YIY6</td>\n",
       "      <td>MKVNNKNSARKLLSLFLGLVLIFSTLSFSNQAAAADKGTWAPNTTY...</td>\n",
       "      <td>afa9ff2d974a4d6c30a1fee00749bed7</td>\n",
       "      <td>PF13290,PF13290,PF13287,PF13287,PF00704</td>\n",
       "      <td>1.0</td>\n",
       "      <td>6.0</td>\n",
       "      <td>NaN</td>\n",
       "      <td>100134.0</td>\n",
       "    </tr>\n",
       "    <tr>\n",
       "      <th>4</th>\n",
       "      <td>TREMBL:A0A1M7YIF7</td>\n",
       "      <td>MKRQSRIISFLVAVIMIATVIMPATVVQANASGVFIRVNQVGYKPS...</td>\n",
       "      <td>980e447cfab03b9ff6d8e3ebe33fd8c5</td>\n",
       "      <td>PF00759,PF02927</td>\n",
       "      <td>1.0</td>\n",
       "      <td>6.0</td>\n",
       "      <td>NaN</td>\n",
       "      <td>100134.0</td>\n",
       "    </tr>\n",
       "  </tbody>\n",
       "</table>\n",
       "</div>"
      ],
      "text/plain": [
       "                 key                                           sequence  \\\n",
       "0  TREMBL:A0A1M7YMF3  MKKRAHIISFILILALLFTGCSGNKENTSKEPVKETTEKGTGNIKT...   \n",
       "1  TREMBL:A0A1M7YE49  MGKGKRKKRIALYFKRAAVAMLVMVMLLQPIPGTAGSSVKSVEAAV...   \n",
       "2  TREMBL:A0A1M7Y718  MNNIPYKKCIIIAMLFICAYFLGGGVAMLVQAYGKDSVKEEANWGL...   \n",
       "3  TREMBL:A0A1M7YIY6  MKVNNKNSARKLLSLFLGLVLIFSTLSFSNQAAAADKGTWAPNTTY...   \n",
       "4  TREMBL:A0A1M7YIF7  MKRQSRIISFLVAVIMIATVIMPATVVQANASGVFIRVNQVGYKPS...   \n",
       "\n",
       "                   sequence_hashkey                                pfam_hits  \\\n",
       "0  4140c1bfe158c54bf8341936919bfbdc                                  PF00128   \n",
       "1  f0234bf7d0ae0e73f36e583b04330e11                  PF00722,PF02018,PF00041   \n",
       "2  74a64ff43b3ab606df759f33df2f53ca                                  PF01522   \n",
       "3  afa9ff2d974a4d6c30a1fee00749bed7  PF13290,PF13290,PF13287,PF13287,PF00704   \n",
       "4  980e447cfab03b9ff6d8e3ebe33fd8c5                          PF00759,PF02927   \n",
       "\n",
       "   value_cur_count  value_cur_mean  value_cur_std  species_taxid  \n",
       "0              1.0             6.0            NaN       100134.0  \n",
       "1              1.0             6.0            NaN       100134.0  \n",
       "2              1.0             6.0            NaN       100134.0  \n",
       "3              1.0             6.0            NaN       100134.0  \n",
       "4              1.0             6.0            NaN       100134.0  "
      ]
     },
     "execution_count": 8,
     "metadata": {},
     "output_type": "execute_result"
    }
   ],
   "source": [
    "old_set['value_cur_mean'] = old_set['mean_growth_PH']\n",
    "merged_set = pd.concat([gold_set, old_set], axis=0, ignore_index=True)\n",
    "merged_set.drop(['mean_growth_PH'], axis=1, inplace=True)\n",
    "print(\"Number of entries after merging: \", merged_set.shape[0])\n",
    "merged_set.head()"
   ]
  },
  {
   "cell_type": "markdown",
   "metadata": {},
   "source": [
    "#### Analyze duplicates and problem sequences"
   ]
  },
  {
   "cell_type": "code",
   "execution_count": 9,
   "metadata": {},
   "outputs": [],
   "source": [
    "#group entries by the sequence\n",
    "grouped_set = merged_set.groupby('sequence').apply(lambda x: (x['value_cur_count'].unique(), x['value_cur_mean'].unique())).reset_index()\n",
    "grouped_set['value_cur_count']= grouped_set[0].apply(lambda x: x[0][0] if len(x) > 1 else x[0])\n",
    "grouped_set['value_cur_mean']= grouped_set[0].apply(lambda x: x[1])\n",
    "grouped_set.drop(0, axis=1, inplace=True)\n",
    "\n",
    "#check if the proteins start with methionine\n",
    "grouped_set['starts_with_Met'] = grouped_set['sequence'].apply(lambda x: True if x[0] == 'M' else False)\n",
    "\n",
    "#check the number of duplicates and the inconsistencies between old and new pHs\n",
    "grouped_set['is_duplicated'] = grouped_set['value_cur_mean'].apply(lambda x: True if len(x) > 1 else False)\n",
    "grouped_set['delta'] = grouped_set['value_cur_mean'].apply(lambda x: np.abs(x[0] - x[1]) if len(x) > 1 else None)\n",
    "grouped_set['transition'] = grouped_set['value_cur_mean'].apply(lambda x: True if len(x) > 1 and ((x[0] < 7 and x[1] > 7) or (x[0] > 7 and x[1] < 7)) else False)"
   ]
  },
  {
   "cell_type": "code",
   "execution_count": 10,
   "metadata": {},
   "outputs": [
    {
     "data": {
      "text/html": [
       "<div>\n",
       "<style scoped>\n",
       "    .dataframe tbody tr th:only-of-type {\n",
       "        vertical-align: middle;\n",
       "    }\n",
       "\n",
       "    .dataframe tbody tr th {\n",
       "        vertical-align: top;\n",
       "    }\n",
       "\n",
       "    .dataframe thead th {\n",
       "        text-align: right;\n",
       "    }\n",
       "</style>\n",
       "<table border=\"1\" class=\"dataframe\">\n",
       "  <thead>\n",
       "    <tr style=\"text-align: right;\">\n",
       "      <th></th>\n",
       "      <th>sequence</th>\n",
       "      <th>value_cur_count</th>\n",
       "      <th>value_cur_mean</th>\n",
       "      <th>starts_with_Met</th>\n",
       "      <th>is_duplicated</th>\n",
       "      <th>delta</th>\n",
       "      <th>transition</th>\n",
       "    </tr>\n",
       "  </thead>\n",
       "  <tbody>\n",
       "    <tr>\n",
       "      <th>0</th>\n",
       "      <td>AAAACIPLLLGSAPLYAQTSAVQQKLAALEKSSGGRLGVALIDTAD...</td>\n",
       "      <td>21.0</td>\n",
       "      <td>[5.557142857142856, 7.0]</td>\n",
       "      <td>False</td>\n",
       "      <td>True</td>\n",
       "      <td>1.442857</td>\n",
       "      <td>False</td>\n",
       "    </tr>\n",
       "    <tr>\n",
       "      <th>1</th>\n",
       "      <td>AAADGGGAGARAPASSTFWFLLHALCCLISLFLGFRFSRLLFFLLF...</td>\n",
       "      <td>1.0</td>\n",
       "      <td>[6.0]</td>\n",
       "      <td>False</td>\n",
       "      <td>False</td>\n",
       "      <td>NaN</td>\n",
       "      <td>False</td>\n",
       "    </tr>\n",
       "    <tr>\n",
       "      <th>2</th>\n",
       "      <td>AAAFAVVGFCSTASAVTYPLPTDGSRLVGQNQVITIPEGNTQPLEY...</td>\n",
       "      <td>21.0</td>\n",
       "      <td>[5.557142857142856, 7.0]</td>\n",
       "      <td>False</td>\n",
       "      <td>True</td>\n",
       "      <td>1.442857</td>\n",
       "      <td>False</td>\n",
       "    </tr>\n",
       "    <tr>\n",
       "      <th>3</th>\n",
       "      <td>AAAIAVVYLSLLLLLLHGAAPAVLGYTRGDFPEDFVFGSATSSYQY...</td>\n",
       "      <td>2.0</td>\n",
       "      <td>[5.0]</td>\n",
       "      <td>False</td>\n",
       "      <td>False</td>\n",
       "      <td>NaN</td>\n",
       "      <td>False</td>\n",
       "    </tr>\n",
       "    <tr>\n",
       "      <th>4</th>\n",
       "      <td>AAATSPARAAAWTFAAATCVKLLLVPTYRSTDFDVHRYWLALTHAL...</td>\n",
       "      <td>2.0</td>\n",
       "      <td>[5.0]</td>\n",
       "      <td>False</td>\n",
       "      <td>False</td>\n",
       "      <td>NaN</td>\n",
       "      <td>False</td>\n",
       "    </tr>\n",
       "  </tbody>\n",
       "</table>\n",
       "</div>"
      ],
      "text/plain": [
       "                                            sequence  value_cur_count  \\\n",
       "0  AAAACIPLLLGSAPLYAQTSAVQQKLAALEKSSGGRLGVALIDTAD...             21.0   \n",
       "1  AAADGGGAGARAPASSTFWFLLHALCCLISLFLGFRFSRLLFFLLF...              1.0   \n",
       "2  AAAFAVVGFCSTASAVTYPLPTDGSRLVGQNQVITIPEGNTQPLEY...             21.0   \n",
       "3  AAAIAVVYLSLLLLLLHGAAPAVLGYTRGDFPEDFVFGSATSSYQY...              2.0   \n",
       "4  AAATSPARAAAWTFAAATCVKLLLVPTYRSTDFDVHRYWLALTHAL...              2.0   \n",
       "\n",
       "             value_cur_mean  starts_with_Met  is_duplicated     delta  \\\n",
       "0  [5.557142857142856, 7.0]            False           True  1.442857   \n",
       "1                     [6.0]            False          False       NaN   \n",
       "2  [5.557142857142856, 7.0]            False           True  1.442857   \n",
       "3                     [5.0]            False          False       NaN   \n",
       "4                     [5.0]            False          False       NaN   \n",
       "\n",
       "   transition  \n",
       "0       False  \n",
       "1       False  \n",
       "2       False  \n",
       "3       False  \n",
       "4       False  "
      ]
     },
     "execution_count": 10,
     "metadata": {},
     "output_type": "execute_result"
    }
   ],
   "source": [
    "grouped_set.head()"
   ]
  },
  {
   "cell_type": "code",
   "execution_count": 11,
   "metadata": {},
   "outputs": [
    {
     "name": "stdout",
     "output_type": "stream",
     "text": [
      "Number of sequences without Methionine at the beginning:  2073\n",
      "Number of duplicated sequences with different pHs:  90528\n",
      "Number of duplicated sequences with |old_pH - new_pH|> 2 :  17968\n",
      "Number of duplicated sequences with value_cur_count == 1 :  30296\n"
     ]
    }
   ],
   "source": [
    "print(\"Number of sequences without Methionine at the beginning: \",\n",
    "      (~grouped_set['starts_with_Met']).sum())\n",
    "print(\"Number of duplicated sequences with different pHs: \",\n",
    "      grouped_set[(grouped_set['is_duplicated'] == True) & (grouped_set['delta'] > 0)].shape[0])\n",
    "print(\"Number of duplicated sequences with |old_pH - new_pH|> 2 : \",\n",
    "      grouped_set[(grouped_set['is_duplicated'] == True) & (grouped_set['delta'] > 2)].shape[0])\n",
    "print(\"Number of duplicated sequences with value_cur_count == 1 : \",\n",
    "      grouped_set[(grouped_set['is_duplicated'] == True) & (grouped_set['value_cur_count'] == 1)].shape[0])"
   ]
  }
 ],
 "metadata": {
  "kernelspec": {
   "display_name": "Python 3",
   "language": "python",
   "name": "python3"
  },
  "language_info": {
   "codemirror_mode": {
    "name": "ipython",
    "version": 3
   },
   "file_extension": ".py",
   "mimetype": "text/x-python",
   "name": "python",
   "nbconvert_exporter": "python",
   "pygments_lexer": "ipython3",
   "version": "3.6.9"
  }
 },
 "nbformat": 4,
 "nbformat_minor": 2
}
